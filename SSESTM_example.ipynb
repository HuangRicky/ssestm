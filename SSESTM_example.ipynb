{
 "cells": [
  {
   "cell_type": "code",
   "execution_count": 1,
   "metadata": {},
   "outputs": [],
   "source": [
    "from ssestm import SSESTM\n",
    "from tqdm import tqdm\n",
    "import pandas as pd\n",
    "import numpy as np"
   ]
  },
  {
   "cell_type": "markdown",
   "metadata": {},
   "source": [
    "# 1. Load data"
   ]
  },
  {
   "cell_type": "code",
   "execution_count": 2,
   "metadata": {},
   "outputs": [],
   "source": [
    "df = pd.read_excel(\"./data/article_new.xlsx\")"
   ]
  },
  {
   "cell_type": "code",
   "execution_count": 3,
   "metadata": {},
   "outputs": [],
   "source": [
    "msk = np.random.rand(len(df)) < 0.7\n",
    "train = df[msk]\n",
    "test = df[~msk]"
   ]
  },
  {
   "cell_type": "code",
   "execution_count": 4,
   "metadata": {},
   "outputs": [],
   "source": [
    "train.to_excel(\"./data/train.xlsx\")"
   ]
  },
  {
   "cell_type": "code",
   "execution_count": 5,
   "metadata": {},
   "outputs": [],
   "source": [
    "test.to_excel(\"./data/test.xlsx\")"
   ]
  },
  {
   "cell_type": "markdown",
   "metadata": {},
   "source": [
    "# 2. Model initializing"
   ]
  },
  {
   "cell_type": "code",
   "execution_count": 6,
   "metadata": {},
   "outputs": [],
   "source": [
    "# If you initialize at the first time, you need to \n",
    "model = SSESTM(alpha_plus=0.3, alpha_minus=0.3, kappa=3,\n",
    "                 reg=0.05, alpha_rate=0.001, max_iters=1000000, error=0.00000001, skip_params_gen=True)"
   ]
  },
  {
   "cell_type": "code",
   "execution_count": 7,
   "metadata": {
    "scrolled": true
   },
   "outputs": [
    {
     "name": "stderr",
     "output_type": "stream",
     "text": [
      "[INFO] Loading data...\n",
      "[INFO] Preprocessing...\n",
      "100%|██████████| 6012/6012 [01:05<00:00, 91.84it/s] \n",
      "[INFO] Screening positive/negative words...\n",
      "100%|██████████| 23882/23882 [17:18<00:00, 23.00it/s]\n",
      "100%|██████████| 6012/6012 [02:09<00:00, 46.52it/s]\n",
      "[INFO] Calculating topic matrix...\n",
      "[INFO] Saving params...\n"
     ]
    }
   ],
   "source": [
    "model.train(path=\"./data/train.xlsx\")"
   ]
  },
  {
   "cell_type": "code",
   "execution_count": 8,
   "metadata": {},
   "outputs": [],
   "source": [
    "df = pd.read_excel(\"./data/test.xlsx\")"
   ]
  },
  {
   "cell_type": "code",
   "execution_count": 10,
   "metadata": {
    "scrolled": true
   },
   "outputs": [
    {
     "name": "stderr",
     "output_type": "stream",
     "text": [
      "100%|██████████| 2592/2592 [06:18<00:00,  9.36it/s]\n"
     ]
    }
   ],
   "source": [
    "model.load_params()\n",
    "return_values = []\n",
    "sentiments_scores = []\n",
    "for idx, row in tqdm(df.iterrows(), total=df.shape[0]):\n",
    "    if not pd.isna(row[\"Return2\"]) and not pd.isna(row[\"Content\"]):\n",
    "        try:\n",
    "            return_values.append(row[\"Return2\"])\n",
    "            sentiments_scores.append(model.predict(row[\"Content\"]))\n",
    "        except KeyboardInterrupt:\n",
    "            break\n",
    "        except:\n",
    "            # Exception for math domain error due to the limitation of gradient descent.\n",
    "            return_values.pop()\n",
    "            continue"
   ]
  },
  {
   "cell_type": "markdown",
   "metadata": {},
   "source": [
    "# 3. Plot correlation"
   ]
  },
  {
   "cell_type": "code",
   "execution_count": 11,
   "metadata": {
    "scrolled": true
   },
   "outputs": [
    {
     "name": "stderr",
     "output_type": "stream",
     "text": [
      "[DEBUG] Loaded backend module://ipykernel.pylab.backend_inline version unknown.\n",
      "[DEBUG] Loaded backend module://ipykernel.pylab.backend_inline version unknown.\n"
     ]
    }
   ],
   "source": [
    "import matplotlib\n",
    "import matplotlib.pyplot as plt\n",
    "import statsmodels.api as sm \n",
    "from sklearn.linear_model import LinearRegression\n",
    "from sklearn.metrics import r2_score"
   ]
  },
  {
   "cell_type": "code",
   "execution_count": 12,
   "metadata": {
    "scrolled": true
   },
   "outputs": [
    {
     "name": "stderr",
     "output_type": "stream",
     "text": [
      "[DEBUG] Loaded backend module://ipykernel.pylab.backend_inline version unknown.\n",
      "[DEBUG] findfont: Matching :family=sans-serif:style=normal:variant=normal:weight=normal:stretch=normal:size=10.0.\n",
      "[DEBUG] findfont: score(<Font 'cmr10' (cmr10.ttf) normal normal 400 normal>) = 10.05\n",
      "[DEBUG] findfont: score(<Font 'STIXNonUnicode' (STIXNonUni.ttf) normal normal regular normal>) = 10.05\n",
      "[DEBUG] findfont: score(<Font 'STIXSizeFourSym' (STIXSizFourSymReg.ttf) normal normal regular normal>) = 10.05\n",
      "[DEBUG] findfont: score(<Font 'cmss10' (cmss10.ttf) normal normal 400 normal>) = 10.05\n",
      "[DEBUG] findfont: score(<Font 'STIXGeneral' (STIXGeneralBol.ttf) normal normal bold normal>) = 10.335\n",
      "[DEBUG] findfont: score(<Font 'DejaVu Sans Mono' (DejaVuSansMono-Bold.ttf) normal normal bold normal>) = 10.335\n",
      "[DEBUG] findfont: score(<Font 'STIXSizeThreeSym' (STIXSizThreeSymBol.ttf) normal normal bold normal>) = 10.335\n",
      "[DEBUG] findfont: score(<Font 'STIXGeneral' (STIXGeneral.ttf) normal normal regular normal>) = 10.05\n",
      "[DEBUG] findfont: score(<Font 'cmsy10' (cmsy10.ttf) normal normal 400 normal>) = 10.05\n",
      "[DEBUG] findfont: score(<Font 'DejaVu Serif' (DejaVuSerif-BoldItalic.ttf) italic normal bold normal>) = 11.335\n",
      "[DEBUG] findfont: score(<Font 'STIXNonUnicode' (STIXNonUniBol.ttf) normal normal bold normal>) = 10.335\n",
      "[DEBUG] findfont: score(<Font 'STIXSizeOneSym' (STIXSizOneSymBol.ttf) normal normal bold normal>) = 10.335\n",
      "[DEBUG] findfont: score(<Font 'DejaVu Sans' (DejaVuSans-Oblique.ttf) oblique normal 400 normal>) = 1.05\n",
      "[DEBUG] findfont: score(<Font 'STIXGeneral' (STIXGeneralItalic.ttf) italic normal 400 normal>) = 11.05\n",
      "[DEBUG] findfont: score(<Font 'STIXSizeFiveSym' (STIXSizFiveSymReg.ttf) normal normal regular normal>) = 10.05\n",
      "[DEBUG] findfont: score(<Font 'DejaVu Serif' (DejaVuSerif-Italic.ttf) italic normal 400 normal>) = 11.05\n",
      "[DEBUG] findfont: score(<Font 'DejaVu Sans' (DejaVuSans-BoldOblique.ttf) oblique normal bold normal>) = 1.335\n",
      "[DEBUG] findfont: score(<Font 'DejaVu Sans' (DejaVuSans.ttf) normal normal 400 normal>) = 0.05\n",
      "[DEBUG] findfont: score(<Font 'STIXSizeTwoSym' (STIXSizTwoSymBol.ttf) normal normal bold normal>) = 10.335\n",
      "[DEBUG] findfont: score(<Font 'cmmi10' (cmmi10.ttf) normal normal 400 normal>) = 10.05\n",
      "[DEBUG] findfont: score(<Font 'cmb10' (cmb10.ttf) normal normal 400 normal>) = 10.05\n",
      "[DEBUG] findfont: score(<Font 'DejaVu Serif' (DejaVuSerif.ttf) normal normal 400 normal>) = 10.05\n",
      "[DEBUG] findfont: score(<Font 'STIXSizeThreeSym' (STIXSizThreeSymReg.ttf) normal normal regular normal>) = 10.05\n",
      "[DEBUG] findfont: score(<Font 'STIXGeneral' (STIXGeneralBolIta.ttf) italic normal bold normal>) = 11.335\n",
      "[DEBUG] findfont: score(<Font 'DejaVu Sans Mono' (DejaVuSansMono-Oblique.ttf) oblique normal 400 normal>) = 11.05\n",
      "[DEBUG] findfont: score(<Font 'STIXSizeTwoSym' (STIXSizTwoSymReg.ttf) normal normal regular normal>) = 10.05\n",
      "[DEBUG] findfont: score(<Font 'cmtt10' (cmtt10.ttf) normal normal 400 normal>) = 10.05\n",
      "[DEBUG] findfont: score(<Font 'DejaVu Sans' (DejaVuSans-Bold.ttf) normal normal bold normal>) = 0.33499999999999996\n",
      "[DEBUG] findfont: score(<Font 'DejaVu Serif Display' (DejaVuSerifDisplay.ttf) normal normal 400 normal>) = 10.05\n",
      "[DEBUG] findfont: score(<Font 'cmex10' (cmex10.ttf) normal normal 400 normal>) = 10.05\n",
      "[DEBUG] findfont: score(<Font 'DejaVu Sans Mono' (DejaVuSansMono-BoldOblique.ttf) oblique normal bold normal>) = 11.335\n",
      "[DEBUG] findfont: score(<Font 'DejaVu Serif' (DejaVuSerif-Bold.ttf) normal normal bold normal>) = 10.335\n",
      "[DEBUG] findfont: score(<Font 'DejaVu Sans Display' (DejaVuSansDisplay.ttf) normal normal 400 normal>) = 10.05\n",
      "[DEBUG] findfont: score(<Font 'STIXSizeOneSym' (STIXSizOneSymReg.ttf) normal normal regular normal>) = 10.05\n",
      "[DEBUG] findfont: score(<Font 'STIXNonUnicode' (STIXNonUniBolIta.ttf) italic normal bold normal>) = 11.335\n",
      "[DEBUG] findfont: score(<Font 'STIXNonUnicode' (STIXNonUniIta.ttf) italic normal 400 normal>) = 11.05\n",
      "[DEBUG] findfont: score(<Font 'STIXSizeFourSym' (STIXSizFourSymBol.ttf) normal normal bold normal>) = 10.335\n",
      "[DEBUG] findfont: score(<Font 'DejaVu Sans Mono' (DejaVuSansMono.ttf) normal normal 400 normal>) = 10.05\n",
      "[DEBUG] findfont: score(<Font 'Liberation Mono for Powerline' (Literation Mono Powerline Bold Italic.ttf) italic normal bold normal>) = 11.335\n",
      "[DEBUG] findfont: score(<Font 'System Font' (SFNSDisplay-RegularItalic.otf) italic normal 400 normal>) = 11.05\n",
      "[DEBUG] findfont: score(<Font 'Meslo LG S for Powerline' (Meslo LG S Italic for Powerline.ttf) italic normal 400 normal>) = 11.05\n",
      "[DEBUG] findfont: score(<Font 'System Font' (SFNSText.ttf) normal normal 400 normal>) = 10.05\n",
      "[DEBUG] findfont: score(<Font 'Apple Braille' (Apple Braille Outline 6 Dot.ttf) normal normal 400 normal>) = 10.05\n",
      "[DEBUG] findfont: score(<Font '.Aqua Kana' (AquaKana.ttc) normal normal 400 normal>) = 10.05\n",
      "[DEBUG] findfont: score(<Font 'Tahoma' (Tahoma Bold.ttf) normal normal bold normal>) = 10.335\n",
      "[DEBUG] findfont: score(<Font 'Tinos for Powerline' (Tinos Italic for Powerline.ttf) italic normal 400 normal>) = 11.05\n",
      "[DEBUG] findfont: score(<Font '.SF NS Display Condensed' (SFNSDisplayCondensed-Bold.otf) normal normal bold condensed>) = 10.535\n",
      "[DEBUG] findfont: score(<Font 'Oriya Sangam MN' (Oriya Sangam MN.ttc) normal normal 400 normal>) = 10.05\n",
      "[DEBUG] findfont: score(<Font '.Arabic UI Text' (ArabicUIText.ttc) normal normal regular normal>) = 10.05\n",
      "[DEBUG] findfont: score(<Font 'monofur for Powerline' (Monofur for Powerline.ttf) normal normal 400 normal>) = 10.05\n",
      "[DEBUG] findfont: score(<Font 'STIXSizeThreeSym' (STIXSizThreeSymReg.otf) normal normal regular normal>) = 10.05\n",
      "[DEBUG] findfont: score(<Font 'Trebuchet MS' (Trebuchet MS Bold Italic.ttf) italic normal bold normal>) = 11.335\n",
      "[DEBUG] findfont: score(<Font 'Al Tarikh' (Al Tarikh.ttc) normal normal regular normal>) = 10.05\n",
      "[DEBUG] findfont: score(<Font 'STIXIntegralsUpSm' (STIXIntUpSmReg.otf) normal normal regular normal>) = 10.05\n",
      "[DEBUG] findfont: score(<Font '.SF NS Rounded' (SFNSRounded-Medium.otf) normal normal medium normal>) = 10.145\n",
      "[DEBUG] findfont: score(<Font 'Sinhala Sangam MN' (Sinhala Sangam MN.ttc) normal normal 400 normal>) = 10.05\n",
      "[DEBUG] findfont: score(<Font 'Meslo LG L DZ for Powerline' (Meslo LG L DZ Italic for Powerline.ttf) italic normal 400 normal>) = 11.05\n",
      "[DEBUG] findfont: score(<Font 'Gurmukhi Sangam MN' (Gurmukhi Sangam MN.ttc) normal normal 400 normal>) = 10.05\n",
      "[DEBUG] findfont: score(<Font 'Tamil Sangam MN' (Tamil Sangam MN.ttc) normal normal 400 normal>) = 10.05\n",
      "[DEBUG] findfont: score(<Font 'Liberation Mono for Powerline' (Literation Mono Powerline Italic.ttf) italic normal 400 normal>) = 11.05\n",
      "[DEBUG] findfont: score(<Font 'Source Code Pro for Powerline' (Source Code Pro Powerline LightItalic.otf) italic normal light normal>) = 11.24\n",
      "[DEBUG] findfont: score(<Font 'STIXIntegralsSm' (STIXIntSmReg.otf) normal normal regular normal>) = 10.05\n",
      "[DEBUG] findfont: score(<Font 'Roboto Mono Thin for Powerline' (Roboto Mono Thin for Powerline.ttf) normal normal 400 normal>) = 10.05\n",
      "[DEBUG] findfont: score(<Font 'STIXGeneral' (STIXGeneralBolIta.otf) italic normal bold normal>) = 11.335\n",
      "[DEBUG] findfont: score(<Font 'Anonymous Pro for Powerline' (Anonymice Powerline Italic.ttf) italic normal 400 normal>) = 11.05\n",
      "[DEBUG] findfont: score(<Font 'Silom' (Silom.ttf) normal normal 400 normal>) = 10.05\n",
      "[DEBUG] findfont: score(<Font 'Meslo LG M for Powerline' (Meslo LG M Bold Italic for Powerline.ttf) italic normal bold normal>) = 11.335\n",
      "[DEBUG] findfont: score(<Font 'Arial Black' (Arial Black.ttf) normal normal black normal>) = 10.525\n",
      "[DEBUG] findfont: score(<Font 'Symbol' (Symbol.ttf) normal normal 400 normal>) = 10.05\n",
      "[DEBUG] findfont: score(<Font 'STIXNonUnicode' (STIXNonUniBolIta.otf) italic normal bold normal>) = 11.335\n",
      "[DEBUG] findfont: score(<Font 'Copperplate' (Copperplate.ttc) normal normal 400 normal>) = 10.05\n",
      "[DEBUG] findfont: score(<Font 'STIXSizeTwoSym' (STIXSizTwoSymReg.otf) normal normal regular normal>) = 10.05\n",
      "[DEBUG] findfont: score(<Font '.Helvetica Neue DeskInterface' (HelveticaNeueDeskInterface.ttc) normal normal regular normal>) = 10.05\n",
      "[DEBUG] findfont: score(<Font 'Muna' (Muna.ttc) normal normal regular normal>) = 10.05\n",
      "[DEBUG] findfont: score(<Font 'ProFont for Powerline' (ProFont For Powerline.ttf) normal normal 400 normal>) = 10.05\n"
     ]
    },
    {
     "name": "stderr",
     "output_type": "stream",
     "text": [
      "[DEBUG] findfont: score(<Font 'Impact' (Impact.ttf) normal normal 400 normal>) = 10.05\n",
      "[DEBUG] findfont: score(<Font 'Liberation Mono for Powerline' (Literation Mono Powerline.ttf) normal normal 400 normal>) = 10.05\n",
      "[DEBUG] findfont: score(<Font 'Cousine for Powerline' (Cousine for Powerline.ttf) normal normal 400 normal>) = 10.05\n",
      "[DEBUG] findfont: score(<Font 'Space Mono for Powerline' (Space Mono for Powerline.ttf) normal normal 400 normal>) = 10.05\n",
      "[DEBUG] findfont: score(<Font 'Malayalam MN' (Malayalam MN.ttc) normal normal 400 normal>) = 10.05\n",
      "[DEBUG] findfont: score(<Font 'Apple Braille' (Apple Braille Pinpoint 8 Dot.ttf) normal normal 400 normal>) = 10.05\n",
      "[DEBUG] findfont: score(<Font 'Geeza Pro' (GeezaPro.ttc) normal normal regular normal>) = 10.05\n",
      "[DEBUG] findfont: score(<Font 'Arial Narrow' (Arial Narrow Bold Italic.ttf) italic normal bold condensed>) = 11.535\n",
      "[DEBUG] findfont: score(<Font '.Keyboard' (Keyboard.ttf) normal normal 400 normal>) = 10.05\n",
      "[DEBUG] findfont: score(<Font 'IBM 3270' (3270Medium.ttf) normal normal medium normal>) = 10.145\n",
      "[DEBUG] findfont: score(<Font 'Verdana' (Verdana Italic.ttf) italic normal 400 normal>) = 4.6863636363636365\n",
      "[DEBUG] findfont: score(<Font 'Andale Mono' (Andale Mono.ttf) normal normal 400 normal>) = 10.05\n",
      "[DEBUG] findfont: score(<Font 'STIXIntegralsSm' (STIXIntSmBol.otf) normal normal bold normal>) = 10.335\n",
      "[DEBUG] findfont: score(<Font '.SF NS Text Condensed' (SFNSTextCondensed-Regular.otf) normal normal regular condensed>) = 10.25\n",
      "[DEBUG] findfont: score(<Font '.LastResort' (LastResort.otf) normal normal 400 normal>) = 10.05\n",
      "[DEBUG] findfont: score(<Font 'Hiragino Mincho ProN' (ヒラギノ明朝 ProN.ttc) normal normal 400 normal>) = 10.05\n",
      "[DEBUG] findfont: score(<Font 'Hiragino Sans' (ヒラギノ角ゴシック W6.ttc) normal normal 700 normal>) = 10.335\n",
      "[DEBUG] findfont: score(<Font 'Source Code Pro for Powerline' (Source Code Pro ExtraLight for Powerline.otf) normal normal light normal>) = 10.24\n",
      "[DEBUG] findfont: score(<Font 'Athelas' (Athelas.ttc) normal normal regular normal>) = 10.05\n",
      "[DEBUG] findfont: score(<Font 'STIXSizeTwoSym' (STIXSizTwoSymBol.otf) normal normal bold normal>) = 10.335\n",
      "[DEBUG] findfont: score(<Font '.SF NS Text Condensed' (SFNSTextCondensed-Medium.otf) normal normal medium condensed>) = 10.344999999999999\n",
      "[DEBUG] findfont: score(<Font 'Malayalam Sangam MN' (Malayalam Sangam MN.ttc) normal normal 400 normal>) = 10.05\n",
      "[DEBUG] findfont: score(<Font '.SF NS Symbols' (SFNSSymbols-Black.otf) normal normal black normal>) = 10.525\n",
      "[DEBUG] findfont: score(<Font 'Source Code Pro for Powerline' (Source Code Pro Powerline Italic.otf) italic normal 400 normal>) = 11.05\n",
      "[DEBUG] findfont: score(<Font 'InaiMathi' (InaiMathi-MN.ttc) normal normal 400 normal>) = 10.05\n",
      "[DEBUG] findfont: score(<Font 'Hiragino Sans GB' (Hiragino Sans GB.ttc) normal normal 400 normal>) = 10.05\n",
      "[DEBUG] findfont: score(<Font 'Times New Roman' (Times New Roman Italic.ttf) italic normal roman normal>) = 11.145\n",
      "[DEBUG] findfont: score(<Font 'IBM 3270 Semi-Narrow' (3270SemiNarrow.ttf) normal normal 400 condensed>) = 10.25\n",
      "[DEBUG] findfont: score(<Font 'Roboto Mono for Powerline' (Roboto Mono Bold Italic for Powerline.ttf) italic normal bold normal>) = 11.335\n",
      "[DEBUG] findfont: score(<Font 'Oriya MN' (Oriya MN.ttc) normal normal 400 normal>) = 10.05\n",
      "[DEBUG] findfont: score(<Font 'System Font' (SFNSDisplay-LightItalic.otf) italic normal light normal>) = 11.24\n",
      "[DEBUG] findfont: score(<Font 'Arimo for Powerline' (Arimo Italic for Powerline.ttf) italic normal 400 normal>) = 11.05\n",
      "[DEBUG] findfont: score(<Font 'Times New Roman' (Times New Roman Bold Italic.ttf) italic normal roman normal>) = 11.145\n",
      "[DEBUG] findfont: score(<Font 'Bodoni 72' (Bodoni 72.ttc) normal normal book normal>) = 10.05\n",
      "[DEBUG] findfont: score(<Font 'Kohinoor Telugu' (KohinoorTelugu.ttc) normal normal 400 normal>) = 10.05\n",
      "[DEBUG] findfont: score(<Font 'Arial Rounded MT Bold' (Arial Rounded Bold.ttf) normal normal bold normal>) = 10.335\n",
      "[DEBUG] findfont: score(<Font 'STIXIntegralsUpD' (STIXIntUpDReg.otf) normal normal regular normal>) = 10.05\n",
      "[DEBUG] findfont: score(<Font 'Helvetica Neue' (HelveticaNeue.ttc) normal normal 400 normal>) = 10.05\n",
      "[DEBUG] findfont: score(<Font 'Mshtakan' (Mshtakan.ttc) normal normal 400 normal>) = 10.05\n",
      "[DEBUG] findfont: score(<Font 'Hiragino Sans' (ヒラギノ角ゴシック W5.ttc) normal normal 700 normal>) = 10.335\n",
      "[DEBUG] findfont: score(<Font 'STIXNonUnicode' (STIXNonUni.otf) normal normal regular normal>) = 10.05\n",
      "[DEBUG] findfont: score(<Font 'Arial' (Arial Italic.ttf) italic normal 400 normal>) = 7.413636363636363\n",
      "[DEBUG] findfont: score(<Font '.SF NS Rounded' (SFNSRounded-Regular.otf) normal normal regular normal>) = 10.05\n",
      "[DEBUG] findfont: score(<Font 'Brush Script MT' (Brush Script.ttf) italic normal 400 normal>) = 11.05\n",
      "[DEBUG] findfont: score(<Font 'Georgia' (Georgia Italic.ttf) italic normal 400 normal>) = 11.05\n",
      "[DEBUG] findfont: score(<Font '.SF NS Rounded' (SFNSRounded-Thin.otf) normal normal 400 normal>) = 10.05\n",
      "[DEBUG] findfont: score(<Font 'Space Mono for Powerline' (Space Mono Italic for Powerline.ttf) italic normal 400 normal>) = 11.05\n",
      "[DEBUG] findfont: score(<Font 'Arial Narrow' (Arial Narrow.ttf) normal normal 400 condensed>) = 10.25\n",
      "[DEBUG] findfont: score(<Font 'Rockwell' (Rockwell.ttc) normal normal 400 normal>) = 10.05\n",
      "[DEBUG] findfont: score(<Font 'PT Serif Caption' (PTSerifCaption.ttc) normal normal 400 normal>) = 10.05\n",
      "[DEBUG] findfont: score(<Font 'Farah' (Farah.ttc) normal normal regular normal>) = 10.05\n",
      "[DEBUG] findfont: score(<Font 'System Font' (SFNSDisplay-ThinItalic.otf) italic normal 400 normal>) = 11.05\n",
      "[DEBUG] findfont: score(<Font 'Superclarendon' (SuperClarendon.ttc) normal normal regular normal>) = 10.05\n",
      "[DEBUG] findfont: score(<Font '.SF NS Display Condensed' (SFNSDisplayCondensed-Semibold.otf) normal normal semibold condensed>) = 10.44\n",
      "[DEBUG] findfont: score(<Font 'Ubuntu Mono derivative Powerline' (Ubuntu Mono derivative Powerline Bold Italic.ttf) italic normal bold normal>) = 11.335\n",
      "[DEBUG] findfont: score(<Font 'Source Code Pro for Powerline' (Source Code Pro Powerline ExtraLightItalic.otf) italic normal light normal>) = 11.24\n",
      "[DEBUG] findfont: score(<Font '.SF NS Symbols' (SFNSSymbols-Bold.otf) normal normal bold normal>) = 10.335\n",
      "[DEBUG] findfont: score(<Font 'Anonymous Pro for Powerline' (Anonymice Powerline Bold Italic.ttf) italic normal bold normal>) = 11.335\n",
      "[DEBUG] findfont: score(<Font 'Space Mono' (SpaceMono-Italic.ttf) italic normal 400 normal>) = 11.05\n",
      "[DEBUG] findfont: score(<Font 'System Font' (SFNSDisplay-BlackItalic.otf) italic normal black normal>) = 11.525\n",
      "[DEBUG] findfont: score(<Font 'Bangla Sangam MN' (Bangla Sangam MN.ttc) normal normal 400 normal>) = 10.05\n",
      "[DEBUG] findfont: score(<Font 'Sana' (Sana.ttc) normal normal regular normal>) = 10.05\n",
      "[DEBUG] findfont: score(<Font 'STIXIntegralsUp' (STIXIntUpBol.otf) normal normal bold normal>) = 10.335\n",
      "[DEBUG] findfont: score(<Font 'Bodoni Ornaments' (Bodoni Ornaments.ttf) normal normal 400 normal>) = 10.05\n",
      "[DEBUG] findfont: score(<Font 'Times New Roman' (Times New Roman Bold.ttf) normal normal roman normal>) = 10.145\n",
      "[DEBUG] findfont: score(<Font 'IBM 3270 Narrow' (3270Narrow.ttf) normal normal 400 condensed>) = 10.25\n",
      "[DEBUG] findfont: score(<Font 'Hiragino Sans' (ヒラギノ角ゴシック W3.ttc) normal normal 400 normal>) = 10.05\n",
      "[DEBUG] findfont: score(<Font 'Devanagari Sangam MN' (Devanagari Sangam MN.ttc) normal normal 400 normal>) = 10.05\n",
      "[DEBUG] findfont: score(<Font 'Bodoni 72 Oldstyle' (Bodoni 72 OS.ttc) normal normal book normal>) = 10.05\n",
      "[DEBUG] findfont: score(<Font 'Arimo for Powerline' (Arimo Bold for Powerline.ttf) normal normal bold normal>) = 10.335\n",
      "[DEBUG] findfont: score(<Font '.SF NS Display Condensed' (SFNSDisplayCondensed-Ultralight.otf) normal normal ultralight condensed>) = 10.535\n",
      "[DEBUG] findfont: score(<Font 'Roboto Mono for Powerline' (Roboto Mono Italic for Powerline.ttf) italic normal 400 normal>) = 11.05\n",
      "[DEBUG] findfont: score(<Font 'STIXIntegralsUp' (STIXIntUpReg.otf) normal normal regular normal>) = 10.05\n",
      "[DEBUG] findfont: score(<Font 'DIN Alternate' (DIN Alternate Bold.ttf) normal normal bold normal>) = 10.335\n",
      "[DEBUG] findfont: score(<Font 'Roboto Mono Light for Powerline' (Roboto Mono Light Italic for Powerline.ttf) italic normal light normal>) = 11.24\n"
     ]
    },
    {
     "name": "stderr",
     "output_type": "stream",
     "text": [
      "[DEBUG] findfont: score(<Font 'System Font' (SFNSDisplay-ThinG2.otf) normal normal 400 normal>) = 10.05\n",
      "[DEBUG] findfont: score(<Font '.SF NS Symbols' (SFNSSymbols-Ultralight.otf) normal normal ultralight normal>) = 10.335\n",
      "[DEBUG] findfont: score(<Font 'Avenir' (Avenir.ttc) normal normal book normal>) = 10.05\n",
      "[DEBUG] findfont: score(<Font 'KufiStandardGK' (KufiStandardGK.ttc) normal normal regular normal>) = 10.05\n",
      "[DEBUG] findfont: score(<Font 'Fira Mono for Powerline' (FuraMono-Medium Powerline.otf) normal normal medium normal>) = 10.145\n",
      "[DEBUG] findfont: score(<Font 'Source Code Pro for Powerline' (Source Code Pro Medium for Powerline.otf) normal normal medium normal>) = 10.145\n",
      "[DEBUG] findfont: score(<Font 'System Font' (SFNSDisplay-MediumItalic.otf) italic normal medium normal>) = 11.145\n",
      "[DEBUG] findfont: score(<Font 'System Font' (SFNSDisplay-SemiboldItalic.otf) italic normal semibold normal>) = 11.24\n",
      "[DEBUG] findfont: score(<Font 'STIXNonUnicode' (STIXNonUniIta.otf) italic normal 400 normal>) = 11.05\n",
      "[DEBUG] findfont: score(<Font '.SF Compact Rounded' (SFCompactRounded-Heavy.otf) normal normal heavy normal>) = 10.43\n",
      "[DEBUG] findfont: score(<Font 'Droid Sans Mono Dotted for Powerline' (Droid Sans Mono Dotted for Powerline.ttf) normal normal 400 normal>) = 10.05\n",
      "[DEBUG] findfont: score(<Font 'Hoefler Text' (Hoefler Text Ornaments.ttf) normal normal 400 normal>) = 10.05\n",
      "[DEBUG] findfont: score(<Font 'Marker Felt' (MarkerFelt.ttc) normal normal 400 normal>) = 10.05\n",
      "[DEBUG] findfont: score(<Font 'Mishafi Gold' (Mishafi Gold.ttf) normal normal regular normal>) = 10.05\n",
      "[DEBUG] findfont: score(<Font 'Sathu' (Sathu.ttf) normal normal 400 normal>) = 10.05\n",
      "[DEBUG] findfont: score(<Font 'Bangla MN' (Bangla MN.ttc) normal normal 400 normal>) = 10.05\n",
      "[DEBUG] findfont: score(<Font 'Gill Sans' (GillSans.ttc) normal normal 400 normal>) = 10.05\n",
      "[DEBUG] findfont: score(<Font 'Noto Mono for Powerline' (Noto Mono for Powerline.ttf) normal normal 400 normal>) = 10.05\n",
      "[DEBUG] findfont: score(<Font 'Palatino' (Palatino.ttc) normal normal 400 normal>) = 10.05\n",
      "[DEBUG] findfont: score(<Font '.SF NS Text Condensed' (SFNSTextCondensed-Semibold.otf) normal normal semibold condensed>) = 10.44\n",
      "[DEBUG] findfont: score(<Font 'Kefa' (Kefa.ttc) normal normal regular normal>) = 10.05\n",
      "[DEBUG] findfont: score(<Font 'Arimo for Powerline' (Arimo for Powerline.ttf) normal normal 400 normal>) = 10.05\n",
      "[DEBUG] findfont: score(<Font 'Space Mono' (SpaceMono-Regular.ttf) normal normal 400 normal>) = 10.05\n",
      "[DEBUG] findfont: score(<Font '.SF Compact Rounded' (SFCompactRounded-Bold.otf) normal normal bold normal>) = 10.335\n",
      "[DEBUG] findfont: score(<Font 'Meslo LG S for Powerline' (Meslo LG S Bold for Powerline.ttf) normal normal bold normal>) = 10.335\n",
      "[DEBUG] findfont: score(<Font 'Zapfino' (Zapfino.ttf) normal normal 400 normal>) = 10.05\n",
      "[DEBUG] findfont: score(<Font 'Kannada Sangam MN' (Kannada Sangam MN.ttc) normal normal 400 normal>) = 10.05\n",
      "[DEBUG] findfont: score(<Font 'Kokonor' (Kokonor.ttf) normal normal regular normal>) = 10.05\n",
      "[DEBUG] findfont: score(<Font 'Tamil MN' (Tamil MN.ttc) normal normal 400 normal>) = 10.05\n",
      "[DEBUG] findfont: score(<Font 'Hiragino Sans' (ヒラギノ角ゴシック W4.ttc) normal normal 400 normal>) = 10.05\n",
      "[DEBUG] findfont: score(<Font 'STIXIntegralsUpD' (STIXIntUpDBol.otf) normal normal bold normal>) = 10.335\n",
      "[DEBUG] findfont: score(<Font 'Bodoni 72 Smallcaps' (Bodoni 72 Smallcaps Book.ttf) normal normal book normal>) = 10.05\n",
      "[DEBUG] findfont: score(<Font 'Gujarati MT' (GujaratiMT.ttc) normal normal 400 normal>) = 10.05\n",
      "[DEBUG] findfont: score(<Font 'Hack' (Hack-Italic.ttf) italic normal 400 normal>) = 11.05\n",
      "[DEBUG] findfont: score(<Font 'System Font' (SFNSDisplay-HeavyItalic.otf) italic normal heavy normal>) = 11.43\n",
      "[DEBUG] findfont: score(<Font 'Gurmukhi MN' (Gurmukhi MN.ttc) normal normal 400 normal>) = 10.05\n",
      "[DEBUG] findfont: score(<Font 'AppleGothic' (AppleGothic.ttf) normal normal regular normal>) = 10.05\n",
      "[DEBUG] findfont: score(<Font 'System Font' (SFNSDisplay-UltralightItalic.otf) italic normal ultralight normal>) = 11.335\n",
      "[DEBUG] findfont: score(<Font 'American Typewriter' (AmericanTypewriter.ttc) normal normal 400 normal>) = 10.05\n",
      "[DEBUG] findfont: score(<Font 'Avenir Next' (Avenir Next.ttc) normal normal bold normal>) = 10.335\n",
      "[DEBUG] findfont: score(<Font 'DejaVu Sans Mono for Powerline' (DejaVu Sans Mono Bold Oblique for Powerline.ttf) oblique normal bold normal>) = 11.335\n",
      "[DEBUG] findfont: score(<Font '.SF NS Display Condensed' (SFNSDisplayCondensed-Light.otf) normal normal light condensed>) = 10.44\n",
      "[DEBUG] findfont: score(<Font 'Zapf Dingbats' (ZapfDingbats.ttf) normal normal 400 normal>) = 10.05\n",
      "[DEBUG] findfont: score(<Font 'Herculanum' (Herculanum.ttf) normal normal 400 normal>) = 10.05\n",
      "[DEBUG] findfont: score(<Font 'Meslo LG M DZ for Powerline' (Meslo LG M DZ Regular for Powerline.ttf) normal normal regular normal>) = 10.05\n",
      "[DEBUG] findfont: score(<Font 'Fira Mono for Powerline' (FuraMono-Bold Powerline.otf) normal normal bold normal>) = 10.335\n",
      "[DEBUG] findfont: score(<Font 'Savoye LET' (Savoye LET.ttc) normal normal 400 normal>) = 10.05\n",
      "[DEBUG] findfont: score(<Font 'Hiragino Sans' (ヒラギノ角ゴシック W2.ttc) normal normal 400 normal>) = 10.05\n",
      "[DEBUG] findfont: score(<Font 'STIXSizeFourSym' (STIXSizFourSymReg.otf) normal normal regular normal>) = 10.05\n",
      "[DEBUG] findfont: score(<Font 'Go Mono for Powerline' (Go Mono Bold for Powerline.ttf) normal normal bold normal>) = 10.335\n",
      "[DEBUG] findfont: score(<Font 'Droid Sans Mono for Powerline' (Droid Sans Mono for Powerline.otf) normal normal 400 normal>) = 10.05\n",
      "[DEBUG] findfont: score(<Font 'STIXGeneral' (STIXGeneral.otf) normal normal regular normal>) = 10.05\n",
      "[DEBUG] findfont: score(<Font 'Khmer Sangam MN' (Khmer Sangam MN.ttf) normal normal 400 normal>) = 10.05\n",
      "[DEBUG] findfont: score(<Font '.SF Compact Text' (SFCompactText-Medium.otf) normal normal medium normal>) = 10.145\n",
      "[DEBUG] findfont: score(<Font '.SF Compact Text' (SFCompactText-SemiboldItalic.otf) italic normal semibold normal>) = 11.24\n",
      "[DEBUG] findfont: score(<Font 'STIXNonUnicode' (STIXNonUniBol.otf) normal normal bold normal>) = 10.335\n",
      "[DEBUG] findfont: score(<Font 'Liberation Mono for Powerline' (Literation Mono Powerline Bold.ttf) normal normal bold normal>) = 10.335\n",
      "[DEBUG] findfont: score(<Font 'Gujarati Sangam MN' (Gujarati Sangam MN.ttc) normal normal 400 normal>) = 10.05\n",
      "[DEBUG] findfont: score(<Font 'Khmer MN' (Khmer MN.ttc) normal normal 400 normal>) = 10.05\n",
      "[DEBUG] findfont: score(<Font 'Source Code Pro for Powerline' (Source Code Pro for Powerline.otf) normal normal 400 normal>) = 10.05\n",
      "[DEBUG] findfont: score(<Font 'New Peninim MT' (NewPeninimMT.ttc) normal normal 400 normal>) = 10.05\n",
      "[DEBUG] findfont: score(<Font '.SF Compact Text' (SFCompactText-BoldItalic.otf) italic normal bold normal>) = 11.335\n",
      "[DEBUG] findfont: score(<Font 'Meslo LG M DZ for Powerline' (Meslo LG M DZ Bold for Powerline.ttf) normal normal bold normal>) = 10.335\n",
      "[DEBUG] findfont: score(<Font 'Source Code Pro for Powerline' (Source Code Pro Light for Powerline.otf) normal normal light normal>) = 10.24\n",
      "[DEBUG] findfont: score(<Font '.SF NS Text Condensed' (SFNSTextCondensed-Heavy.otf) normal normal heavy condensed>) = 10.629999999999999\n",
      "[DEBUG] findfont: score(<Font 'Space Mono for Powerline' (Space Mono Bold for Powerline.ttf) normal normal bold normal>) = 10.335\n",
      "[DEBUG] findfont: score(<Font '.SF Compact Display' (SFCompactDisplay-Ultralight.otf) normal normal ultralight normal>) = 10.335\n",
      "[DEBUG] findfont: score(<Font 'Roboto Mono Light for Powerline' (Roboto Mono Light for Powerline.ttf) normal normal light normal>) = 10.24\n",
      "[DEBUG] findfont: score(<Font 'Anonymous Pro for Powerline' (Anonymice Powerline Bold.ttf) normal normal bold normal>) = 10.335\n",
      "[DEBUG] findfont: score(<Font 'Seravek' (Seravek.ttc) normal normal 400 normal>) = 10.05\n",
      "[DEBUG] findfont: score(<Font 'Kannada MN' (Kannada MN.ttc) normal normal 400 normal>) = 10.05\n",
      "[DEBUG] findfont: score(<Font 'Nadeem' (Nadeem.ttc) normal normal regular normal>) = 10.05\n",
      "[DEBUG] findfont: score(<Font 'STIXSizeFiveSym' (STIXSizFiveSymReg.otf) normal normal regular normal>) = 10.05\n",
      "[DEBUG] findfont: score(<Font 'Meslo LG L DZ for Powerline' (Meslo LG L DZ Bold Italic for Powerline.ttf) italic normal bold normal>) = 11.335\n"
     ]
    },
    {
     "name": "stderr",
     "output_type": "stream",
     "text": [
      "[DEBUG] findfont: score(<Font 'Kohinoor Devanagari' (Kohinoor.ttc) normal normal regular normal>) = 10.05\n",
      "[DEBUG] findfont: score(<Font 'Ayuthaya' (Ayuthaya.ttf) normal normal 400 normal>) = 10.05\n",
      "[DEBUG] findfont: score(<Font 'Meslo LG M for Powerline' (Meslo LG M Italic for Powerline.ttf) italic normal 400 normal>) = 11.05\n",
      "[DEBUG] findfont: score(<Font 'Charter' (Charter.ttc) normal normal roman normal>) = 10.145\n",
      "[DEBUG] findfont: score(<Font 'Baghdad' (Baghdad.ttc) normal normal regular normal>) = 10.05\n",
      "[DEBUG] findfont: score(<Font 'Go Mono for Powerline' (Go Mono for Powerline.ttf) normal normal 400 normal>) = 10.05\n",
      "[DEBUG] findfont: score(<Font '.SF Compact Display' (SFCompactDisplay-Bold.otf) normal normal bold normal>) = 10.335\n",
      "[DEBUG] findfont: score(<Font 'Tinos for Powerline' (Tinos for Powerline.ttf) normal normal 400 normal>) = 10.05\n",
      "[DEBUG] findfont: score(<Font 'Arial' (Arial Bold Italic.ttf) italic normal bold normal>) = 7.698636363636363\n",
      "[DEBUG] findfont: score(<Font 'PT Sans' (PTSans.ttc) normal normal 400 normal>) = 10.05\n",
      "[DEBUG] findfont: score(<Font 'STIXIntegralsUpSm' (STIXIntUpSmBol.otf) normal normal bold normal>) = 10.335\n",
      "[DEBUG] findfont: score(<Font 'Songti SC' (Songti.ttc) normal normal black normal>) = 10.525\n",
      "[DEBUG] findfont: score(<Font 'Meslo LG S for Powerline' (Meslo LG S Regular for Powerline.ttf) normal normal regular normal>) = 10.05\n",
      "[DEBUG] findfont: score(<Font '.SF Compact Display' (SFCompactDisplay-Regular.otf) normal normal regular normal>) = 10.05\n",
      "[DEBUG] findfont: score(<Font 'Symbol Neu for Powerline' (Symbol Neu for Powerline.ttf) normal normal 400 normal>) = 10.05\n",
      "[DEBUG] findfont: score(<Font '.SF Compact Rounded' (SFCompactRounded-Black.otf) normal normal black normal>) = 10.525\n",
      "[DEBUG] findfont: score(<Font 'Source Code Pro for Powerline' (Source Code Pro Powerline BlackItalic.otf) italic normal black normal>) = 11.525\n",
      "[DEBUG] findfont: score(<Font 'PT Serif' (PTSerif.ttc) normal normal 400 normal>) = 10.05\n",
      "[DEBUG] findfont: score(<Font 'Damascus' (Damascus.ttc) normal normal regular normal>) = 10.05\n",
      "[DEBUG] findfont: score(<Font 'Verdana' (Verdana Bold Italic.ttf) italic normal bold normal>) = 4.971363636363637\n",
      "[DEBUG] findfont: score(<Font 'Hiragino Sans' (ヒラギノ角ゴシック W8.ttc) normal normal 700 normal>) = 10.335\n",
      "[DEBUG] findfont: score(<Font 'Meslo LG L for Powerline' (Meslo LG L Bold Italic for Powerline.ttf) italic normal bold normal>) = 11.335\n",
      "[DEBUG] findfont: score(<Font 'PT Mono' (PTMono.ttc) normal normal bold normal>) = 10.335\n",
      "[DEBUG] findfont: score(<Font 'Arial Unicode MS' (Arial Unicode.ttf) normal normal 400 normal>) = 10.05\n",
      "[DEBUG] findfont: score(<Font 'SignPainter' (SignPainter.ttc) normal normal 400 normal>) = 10.05\n",
      "[DEBUG] findfont: score(<Font 'Farisi' (Farisi.ttf) normal normal regular normal>) = 10.05\n",
      "[DEBUG] findfont: score(<Font '.SF NS Display Condensed' (SFNSDisplayCondensed-Black.otf) normal normal black condensed>) = 10.725\n",
      "[DEBUG] findfont: score(<Font 'Trebuchet MS' (Trebuchet MS Bold.ttf) normal normal bold normal>) = 10.335\n",
      "[DEBUG] findfont: score(<Font 'Tahoma' (Tahoma.ttf) normal normal 400 normal>) = 10.05\n",
      "[DEBUG] findfont: score(<Font 'Waseem' (Waseem.ttc) normal normal regular normal>) = 10.05\n",
      "[DEBUG] findfont: score(<Font 'Arial' (Arial Bold.ttf) normal normal bold normal>) = 6.698636363636363\n",
      "[DEBUG] findfont: score(<Font 'Noteworthy' (Noteworthy.ttc) normal normal light normal>) = 10.24\n",
      "[DEBUG] findfont: score(<Font '.SF Compact Text' (SFCompactText-LightItalic.otf) italic normal light normal>) = 11.24\n",
      "[DEBUG] findfont: score(<Font 'Raanana' (Raanana.ttc) normal normal 400 normal>) = 10.05\n",
      "[DEBUG] findfont: score(<Font 'Meslo LG S DZ for Powerline' (Meslo LG S DZ Bold for Powerline.ttf) normal normal bold normal>) = 10.335\n",
      "[DEBUG] findfont: score(<Font 'Meslo LG S for Powerline' (Meslo LG S Bold Italic for Powerline.ttf) italic normal bold normal>) = 11.335\n",
      "[DEBUG] findfont: score(<Font '.SF NS Symbols' (SFNSSymbols-Heavy.otf) normal normal heavy normal>) = 10.43\n",
      "[DEBUG] findfont: score(<Font 'Thonburi' (Thonburi.ttc) normal normal 400 normal>) = 10.05\n",
      "[DEBUG] findfont: score(<Font '.SF NS Rounded' (SFNSRounded-Light.otf) normal normal light normal>) = 10.24\n",
      "[DEBUG] findfont: score(<Font 'Papyrus' (Papyrus.ttc) normal normal 400 condensed>) = 10.25\n",
      "[DEBUG] findfont: score(<Font '.SF NS Symbols' (SFNSSymbols-Thin.otf) normal normal 400 normal>) = 10.05\n",
      "[DEBUG] findfont: score(<Font 'Hack' (Hack-Bold.ttf) normal normal bold normal>) = 10.335\n",
      "[DEBUG] findfont: score(<Font 'Heiti TC' (STHeiti Light.ttc) normal normal light normal>) = 10.24\n",
      "[DEBUG] findfont: score(<Font 'Hiragino Sans' (ヒラギノ角ゴシック W7.ttc) normal normal 700 normal>) = 10.335\n",
      "[DEBUG] findfont: score(<Font 'Trebuchet MS' (Trebuchet MS.ttf) normal normal 400 normal>) = 10.05\n",
      "[DEBUG] findfont: score(<Font '.SF NS Rounded' (SFNSRounded-Heavy.otf) normal normal heavy normal>) = 10.43\n",
      "[DEBUG] findfont: score(<Font 'System Font' (SFNSTextItalic.ttf) italic normal 400 normal>) = 11.05\n",
      "[DEBUG] findfont: score(<Font 'Meslo LG S DZ for Powerline' (Meslo LG S DZ Bold Italic for Powerline.ttf) italic normal bold normal>) = 11.335\n",
      "[DEBUG] findfont: score(<Font 'AppleMyungjo' (AppleMyungjo.ttf) normal normal regular normal>) = 10.05\n",
      "[DEBUG] findfont: score(<Font 'STIXVariants' (STIXVar.otf) normal normal regular normal>) = 10.05\n",
      "[DEBUG] findfont: score(<Font 'Courier New' (Courier New Bold.ttf) normal normal bold normal>) = 10.335\n",
      "[DEBUG] findfont: score(<Font 'Comic Sans MS' (Comic Sans MS Bold.ttf) normal normal bold normal>) = 10.335\n",
      "[DEBUG] findfont: score(<Font '.SF NS Symbols' (SFNSSymbols-Regular.otf) normal normal regular normal>) = 10.05\n",
      "[DEBUG] findfont: score(<Font 'Lucida Grande' (LucidaGrande.ttc) normal normal 400 normal>) = 2.777272727272727\n",
      "[DEBUG] findfont: score(<Font 'Ubuntu Mono derivative Powerline' (Ubuntu Mono derivative Powerline Italic.ttf) italic normal 400 normal>) = 11.05\n",
      "[DEBUG] findfont: score(<Font 'STIXSizeThreeSym' (STIXSizThreeSymBol.otf) normal normal bold normal>) = 10.335\n",
      "[DEBUG] findfont: score(<Font 'STIXGeneral' (STIXGeneralBol.otf) normal normal bold normal>) = 10.335\n",
      "[DEBUG] findfont: score(<Font 'Marion' (Marion.ttc) normal normal regular normal>) = 10.05\n",
      "[DEBUG] findfont: score(<Font 'STIXSizeOneSym' (STIXSizOneSymReg.otf) normal normal regular normal>) = 10.05\n",
      "[DEBUG] findfont: score(<Font 'Space Mono for Powerline' (Space Mono Bold Italic for Powerline.ttf) italic normal bold normal>) = 11.335\n",
      "[DEBUG] findfont: score(<Font '.SF NS Rounded' (SFNSRounded-Bold.otf) normal normal bold normal>) = 10.335\n",
      "[DEBUG] findfont: score(<Font '.SF Compact Text' (SFCompactText-Heavy.otf) normal normal heavy normal>) = 10.43\n",
      "[DEBUG] findfont: score(<Font 'Hack' (Hack-Regular.ttf) normal normal regular normal>) = 10.05\n",
      "[DEBUG] findfont: score(<Font '.SF Compact Rounded' (SFCompactRounded-Semibold.otf) normal normal semibold normal>) = 10.24\n",
      "[DEBUG] findfont: score(<Font 'Gurmukhi MT' (Gurmukhi.ttf) normal normal 400 normal>) = 10.05\n",
      "[DEBUG] findfont: score(<Font 'Lao MN' (Lao MN.ttc) normal normal 400 normal>) = 10.05\n",
      "[DEBUG] findfont: score(<Font 'Courier New' (Courier New.ttf) normal normal 400 normal>) = 10.05\n",
      "[DEBUG] findfont: score(<Font 'Euphemia UCAS' (EuphemiaCAS.ttc) normal normal 400 normal>) = 10.05\n",
      "[DEBUG] findfont: score(<Font 'Courier New' (Courier New Italic.ttf) italic normal 400 normal>) = 11.05\n",
      "[DEBUG] findfont: score(<Font 'Iowan Old Style' (Iowan Old Style.ttc) normal normal roman normal>) = 10.145\n",
      "[DEBUG] findfont: score(<Font 'Hiragino Maru Gothic Pro' (ヒラギノ丸ゴ ProN W4.ttc) normal normal 400 normal>) = 10.05\n",
      "[DEBUG] findfont: score(<Font 'Inconsolata for Powerline' (Inconsolata for Powerline.otf) normal normal 400 normal>) = 10.05\n",
      "[DEBUG] findfont: score(<Font 'Kohinoor Bangla' (KohinoorBangla.ttc) normal normal 400 normal>) = 10.05\n",
      "[DEBUG] findfont: score(<Font 'Roboto Mono for Powerline' (Roboto Mono for Powerline.ttf) normal normal 400 normal>) = 10.05\n",
      "[DEBUG] findfont: score(<Font 'Webdings' (Webdings.ttf) normal normal 400 normal>) = 10.05\n",
      "[DEBUG] findfont: score(<Font 'DecoType Naskh' (DecoTypeNaskh.ttc) normal normal regular normal>) = 10.05\n",
      "[DEBUG] findfont: score(<Font 'STIXSizeFourSym' (STIXSizFourSymBol.otf) normal normal bold normal>) = 10.335\n"
     ]
    },
    {
     "name": "stderr",
     "output_type": "stream",
     "text": [
      "[DEBUG] findfont: score(<Font 'Meslo LG S DZ for Powerline' (Meslo LG S DZ Regular for Powerline.ttf) normal normal regular normal>) = 10.05\n",
      "[DEBUG] findfont: score(<Font 'DejaVu Sans Mono for Powerline' (DejaVu Sans Mono Oblique for Powerline.ttf) oblique normal 400 normal>) = 11.05\n",
      "[DEBUG] findfont: score(<Font 'Wingdings 2' (Wingdings 2.ttf) normal normal 400 normal>) = 10.05\n",
      "[DEBUG] findfont: score(<Font 'Diwan Thuluth' (Diwan Thuluth.ttf) normal normal regular normal>) = 10.05\n",
      "[DEBUG] findfont: score(<Font '.SF Compact Text' (SFCompactText-RegularItalic.otf) italic normal 400 normal>) = 11.05\n",
      "[DEBUG] findfont: score(<Font 'Cousine for Powerline' (Cousine Italic for Powerline.ttf) italic normal 400 normal>) = 11.05\n",
      "[DEBUG] findfont: score(<Font '.SF Compact Rounded' (SFCompactRounded-Regular.otf) normal normal regular normal>) = 10.05\n",
      "[DEBUG] findfont: score(<Font 'Meslo LG L for Powerline' (Meslo LG L Bold for Powerline.ttf) normal normal bold normal>) = 10.335\n",
      "[DEBUG] findfont: score(<Font 'Times' (Times.ttc) normal normal roman normal>) = 10.145\n",
      "[DEBUG] findfont: score(<Font 'Telugu Sangam MN' (Telugu Sangam MN.ttc) normal normal 400 normal>) = 10.05\n",
      "[DEBUG] findfont: score(<Font 'Meslo LG M for Powerline' (Meslo LG M Bold for Powerline.ttf) normal normal bold normal>) = 10.335\n",
      "[DEBUG] findfont: score(<Font '.SF NS Rounded' (SFNSRounded-Black.otf) normal normal black normal>) = 10.525\n",
      "[DEBUG] findfont: score(<Font 'Meslo LG M DZ for Powerline' (Meslo LG M DZ Italic for Powerline.ttf) italic normal 400 normal>) = 11.05\n",
      "[DEBUG] findfont: score(<Font 'Apple Braille' (Apple Braille.ttf) normal normal 400 normal>) = 10.05\n",
      "[DEBUG] findfont: score(<Font 'STIXSizeOneSym' (STIXSizOneSymBol.otf) normal normal bold normal>) = 10.335\n",
      "[DEBUG] findfont: score(<Font '.SF NS Symbols' (SFNSSymbols-Medium.otf) normal normal medium normal>) = 10.145\n",
      "[DEBUG] findfont: score(<Font '.SF Compact Display' (SFCompactDisplay-Heavy.otf) normal normal heavy normal>) = 10.43\n",
      "[DEBUG] findfont: score(<Font 'Arial Narrow' (Arial Narrow Bold.ttf) normal normal bold condensed>) = 10.535\n",
      "[DEBUG] findfont: score(<Font 'Droid Sans Mono Slashed for Powerline' (Droid Sans Mono Slashed for Powerline.ttf) normal normal 400 normal>) = 10.05\n",
      "[DEBUG] findfont: score(<Font 'Telugu MN' (Telugu MN.ttc) normal normal 400 normal>) = 10.05\n",
      "[DEBUG] findfont: score(<Font '.SF NS Rounded' (SFNSRounded-Ultralight.otf) normal normal ultralight normal>) = 10.335\n",
      "[DEBUG] findfont: score(<Font 'Inconsolata for Powerline' (Inconsolata Bold for Powerline.ttf) normal normal bold normal>) = 10.335\n",
      "[DEBUG] findfont: score(<Font 'Al Nile' (Al Nile.ttc) normal normal 400 normal>) = 10.05\n",
      "[DEBUG] findfont: score(<Font 'Source Code Pro for Powerline' (Source Code Pro Bold for Powerline.otf) normal normal bold normal>) = 10.335\n",
      "[DEBUG] findfont: score(<Font 'Roboto Mono Medium for Powerline' (Roboto Mono Medium Italic for Powerline.ttf) italic normal medium normal>) = 11.145\n",
      "[DEBUG] findfont: score(<Font 'Space Mono' (SpaceMono-Bold.ttf) normal normal bold normal>) = 10.335\n",
      "[DEBUG] findfont: score(<Font 'Verdana' (Verdana Bold.ttf) normal normal bold normal>) = 3.9713636363636367\n",
      "[DEBUG] findfont: score(<Font '.SF Compact Display' (SFCompactDisplay-Semibold.otf) normal normal semibold normal>) = 10.24\n",
      "[DEBUG] findfont: score(<Font 'Meslo LG M DZ for Powerline' (Meslo LG M DZ Bold Italic for Powerline.ttf) italic normal bold normal>) = 11.335\n",
      "[DEBUG] findfont: score(<Font 'Mishafi' (Mishafi.ttf) normal normal regular normal>) = 10.05\n",
      "[DEBUG] findfont: score(<Font 'monofur for Powerline' (Monofur Bold for Powerline.ttf) normal normal bold normal>) = 10.335\n",
      "[DEBUG] findfont: score(<Font '.SF Compact Display' (SFCompactDisplay-Thin.otf) normal normal 400 normal>) = 10.05\n",
      "[DEBUG] findfont: score(<Font 'Phosphate' (Phosphate.ttc) normal normal 400 normal>) = 10.05\n",
      "[DEBUG] findfont: score(<Font 'Hiragino Sans' (ヒラギノ角ゴシック W9.ttc) normal normal 700 normal>) = 10.335\n",
      "[DEBUG] findfont: score(<Font '.SF Compact Text' (SFCompactText-Semibold.otf) normal normal semibold normal>) = 10.24\n",
      "[DEBUG] findfont: score(<Font 'Noto Nastaliq Urdu' (NotoNastaliq.ttc) normal normal 400 normal>) = 10.05\n",
      "[DEBUG] findfont: score(<Font '.SF NS Text Condensed' (SFNSTextCondensed-Light.otf) normal normal light condensed>) = 10.44\n",
      "[DEBUG] findfont: score(<Font 'DejaVu Sans Mono for Powerline' (DejaVu Sans Mono Bold for Powerline.ttf) normal normal bold normal>) = 10.335\n",
      "[DEBUG] findfont: score(<Font 'Arial' (Arial.ttf) normal normal 400 normal>) = 6.413636363636363\n",
      "[DEBUG] findfont: score(<Font '.SF NS Display Condensed' (SFNSDisplayCondensed-Regular.otf) normal normal regular condensed>) = 10.25\n",
      "[DEBUG] findfont: score(<Font 'Baskerville' (Baskerville.ttc) normal normal 400 normal>) = 10.05\n",
      "[DEBUG] findfont: score(<Font '.SF NS Symbols' (SFNSSymbols-Light.otf) normal normal light normal>) = 10.24\n",
      "[DEBUG] findfont: score(<Font 'Apple Chancery' (Apple Chancery.ttf) normal normal 400 normal>) = 10.05\n",
      "[DEBUG] findfont: score(<Font 'Meslo LG L for Powerline' (Meslo LG L Italic for Powerline.ttf) italic normal 400 normal>) = 11.05\n",
      "[DEBUG] findfont: score(<Font '.SF Compact Rounded' (SFCompactRounded-Thin.otf) normal normal 400 normal>) = 10.05\n",
      "[DEBUG] findfont: score(<Font 'Al Bayan' (AlBayan.ttc) normal normal 400 normal>) = 10.05\n",
      "[DEBUG] findfont: score(<Font 'Roboto Mono Thin for Powerline' (Roboto Mono Thin Italic for Powerline.ttf) italic normal 400 normal>) = 11.05\n",
      "[DEBUG] findfont: score(<Font 'Ubuntu Mono derivative Powerline' (Ubuntu Mono derivative Powerline.ttf) normal normal 400 normal>) = 10.05\n",
      "[DEBUG] findfont: score(<Font 'Meslo LG L DZ for Powerline' (Meslo LG L DZ Bold for Powerline.ttf) normal normal bold normal>) = 10.335\n",
      "[DEBUG] findfont: score(<Font 'Menlo' (Menlo.ttc) normal normal regular normal>) = 10.05\n",
      "[DEBUG] findfont: score(<Font 'Apple Braille' (Apple Braille Pinpoint 6 Dot.ttf) normal normal 400 normal>) = 10.05\n",
      "[DEBUG] findfont: score(<Font 'Shree Devanagari 714' (Shree714.ttc) normal normal 400 normal>) = 10.05\n",
      "[DEBUG] findfont: score(<Font 'Hiragino Sans' (ヒラギノ角ゴシック W1.ttc) normal normal 400 normal>) = 10.05\n",
      "[DEBUG] findfont: score(<Font 'Meslo LG S DZ for Powerline' (Meslo LG S DZ Italic for Powerline.ttf) italic normal 400 normal>) = 11.05\n",
      "[DEBUG] findfont: score(<Font 'ProFont for Powerline' (ProFont Bold For Powerline.ttf) normal normal bold normal>) = 10.335\n",
      "[DEBUG] findfont: score(<Font 'Krungthep' (Krungthep.ttf) normal normal 400 normal>) = 10.05\n",
      "[DEBUG] findfont: score(<Font 'Anonymous Pro for Powerline' (Anonymice Powerline.ttf) normal normal 400 normal>) = 10.05\n",
      "[DEBUG] findfont: score(<Font 'STIXIntegralsD' (STIXIntDReg.otf) normal normal regular normal>) = 10.05\n",
      "[DEBUG] findfont: score(<Font 'Source Code Pro for Powerline' (Source Code Pro Powerline BoldItalic.otf) italic normal bold normal>) = 11.335\n",
      "[DEBUG] findfont: score(<Font 'Luminari' (Luminari.ttf) normal normal 400 normal>) = 10.05\n",
      "[DEBUG] findfont: score(<Font 'STIXVariants' (STIXVarBol.otf) normal normal bold normal>) = 10.335\n",
      "[DEBUG] findfont: score(<Font 'Cochin' (Cochin.ttc) normal normal 400 normal>) = 10.05\n",
      "[DEBUG] findfont: score(<Font 'Futura' (Futura.ttc) normal normal medium normal>) = 10.145\n",
      "[DEBUG] findfont: score(<Font 'Cousine for Powerline' (Cousine Bold for Powerline.ttf) normal normal bold normal>) = 10.335\n",
      "[DEBUG] findfont: score(<Font 'Georgia' (Georgia Bold Italic.ttf) italic normal bold normal>) = 11.335\n",
      "[DEBUG] findfont: score(<Font '.SF Compact Text' (SFCompactText-Regular.otf) normal normal regular normal>) = 10.05\n",
      "[DEBUG] findfont: score(<Font '.SF Compact Rounded' (SFCompactRounded-Light.otf) normal normal light normal>) = 10.24\n",
      "[DEBUG] findfont: score(<Font 'Fira Mono for Powerline' (FuraMono-Regular Powerline.otf) normal normal 400 normal>) = 10.05\n",
      "[DEBUG] findfont: score(<Font '.SF Compact Text' (SFCompactText-MediumItalic.otf) italic normal medium normal>) = 11.145\n",
      "[DEBUG] findfont: score(<Font 'Inconsolata-g for Powerline' (Inconsolata-g for Powerline.otf) normal normal 400 normal>) = 10.05\n",
      "[DEBUG] findfont: score(<Font 'Meslo LG M for Powerline' (Meslo LG M Regular for Powerline.ttf) normal normal regular normal>) = 10.05\n"
     ]
    },
    {
     "name": "stderr",
     "output_type": "stream",
     "text": [
      "[DEBUG] findfont: score(<Font 'Sinhala MN' (Sinhala MN.ttc) normal normal 400 normal>) = 10.05\n",
      "[DEBUG] findfont: score(<Font 'System Font' (SFNSDisplay-ThinG3.otf) normal normal 400 normal>) = 10.05\n",
      "[DEBUG] findfont: score(<Font 'System Font' (SFNSDisplay-ThinG1.otf) normal normal 400 normal>) = 10.05\n",
      "[DEBUG] findfont: score(<Font 'PingFang HK' (PingFang.ttc) normal normal regular normal>) = 10.05\n",
      "[DEBUG] findfont: score(<Font 'System Font' (SFNSDisplay-BoldItalic.otf) italic normal bold normal>) = 11.335\n",
      "[DEBUG] findfont: score(<Font 'Space Mono' (SpaceMono-BoldItalic.ttf) italic normal bold normal>) = 11.335\n",
      "[DEBUG] findfont: score(<Font 'Chalkboard SE' (ChalkboardSE.ttc) normal normal light normal>) = 10.24\n",
      "[DEBUG] findfont: score(<Font 'Tinos for Powerline' (Tinos Bold for Powerline.ttf) normal normal bold normal>) = 10.335\n",
      "[DEBUG] findfont: score(<Font 'Source Code Pro for Powerline' (Source Code Pro Powerline SemiboldItalic.otf) italic normal semibold normal>) = 11.24\n",
      "[DEBUG] findfont: score(<Font 'Georgia' (Georgia Bold.ttf) normal normal bold normal>) = 10.335\n",
      "[DEBUG] findfont: score(<Font 'monofur for Powerline' (Monofur Italic for Powerline.ttf) italic normal 400 normal>) = 11.05\n",
      "[DEBUG] findfont: score(<Font 'Skia' (Skia.ttf) normal normal 400 normal>) = 10.05\n",
      "[DEBUG] findfont: score(<Font 'Cousine for Powerline' (Cousine Bold Italic for Powerline.ttf) italic normal bold normal>) = 11.335\n",
      "[DEBUG] findfont: score(<Font 'DIN Condensed' (DIN Condensed Bold.ttf) normal normal bold condensed>) = 10.535\n",
      "[DEBUG] findfont: score(<Font 'DejaVu Sans Mono for Powerline' (DejaVu Sans Mono for Powerline.ttf) normal normal 400 normal>) = 10.05\n",
      "[DEBUG] findfont: score(<Font 'STIXGeneral' (STIXGeneralItalic.otf) italic normal 400 normal>) = 11.05\n",
      "[DEBUG] findfont: score(<Font 'Optima' (Optima.ttc) normal normal regular normal>) = 10.05\n",
      "[DEBUG] findfont: score(<Font 'Source Code Pro for Powerline' (Source Code Pro Powerline MediumItalic.otf) italic normal medium normal>) = 11.145\n",
      "[DEBUG] findfont: score(<Font '.SF Compact Text' (SFCompactText-Light.otf) normal normal light normal>) = 10.24\n",
      "[DEBUG] findfont: score(<Font 'Bradley Hand' (Bradley Hand Bold.ttf) normal normal bold normal>) = 10.335\n",
      "[DEBUG] findfont: score(<Font '.SF Compact Text' (SFCompactText-Bold.otf) normal normal bold normal>) = 10.335\n",
      "[DEBUG] findfont: score(<Font 'Arial Narrow' (Arial Narrow Italic.ttf) italic normal 400 condensed>) = 11.25\n",
      "[DEBUG] findfont: score(<Font 'System Font' (SFNSDisplay.ttf) normal normal 400 normal>) = 10.05\n",
      "[DEBUG] findfont: score(<Font 'ITF Devanagari' (ITFDevanagari.ttc) normal normal book normal>) = 10.05\n",
      "[DEBUG] findfont: score(<Font 'Roboto Mono Medium for Powerline' (Roboto Mono Medium for Powerline.ttf) normal normal medium normal>) = 10.145\n",
      "[DEBUG] findfont: score(<Font 'Plantagenet Cherokee' (PlantagenetCherokee.ttf) normal normal 400 normal>) = 10.05\n",
      "[DEBUG] findfont: score(<Font 'Apple Symbols' (Apple Symbols.ttf) normal normal 400 normal>) = 10.05\n",
      "[DEBUG] findfont: score(<Font 'Go Mono for Powerline' (Go Mono Italic for Powerline.ttf) italic normal 400 normal>) = 11.05\n",
      "[DEBUG] findfont: score(<Font 'Wingdings 3' (Wingdings 3.ttf) normal normal 400 normal>) = 10.05\n",
      "[DEBUG] findfont: score(<Font 'Source Code Pro for Powerline' (Source Code Pro Black for Powerline.otf) normal normal black normal>) = 10.525\n",
      "[DEBUG] findfont: score(<Font 'Microsoft Sans Serif' (Microsoft Sans Serif.ttf) normal normal 400 normal>) = 10.05\n",
      "[DEBUG] findfont: score(<Font 'Myanmar MN' (Myanmar MN.ttc) normal normal 400 normal>) = 10.05\n",
      "[DEBUG] findfont: score(<Font 'Beirut' (Beirut.ttc) normal normal regular normal>) = 10.05\n",
      "[DEBUG] findfont: score(<Font 'Diwan Kufi' (Diwan Kufi.ttc) normal normal regular normal>) = 10.05\n",
      "[DEBUG] findfont: score(<Font 'Times New Roman' (Times New Roman.ttf) normal normal roman normal>) = 10.145\n",
      "[DEBUG] findfont: score(<Font 'Arimo for Powerline' (Arimo Bold Italic for Powerline.ttf) italic normal bold normal>) = 11.335\n",
      "[DEBUG] findfont: score(<Font '.SF Compact Display' (SFCompactDisplay-Light.otf) normal normal light normal>) = 10.24\n",
      "[DEBUG] findfont: score(<Font 'Heiti TC' (STHeiti Medium.ttc) normal normal medium normal>) = 10.145\n",
      "[DEBUG] findfont: score(<Font 'Sukhumvit Set' (SukhumvitSet.ttc) normal normal 400 normal>) = 10.05\n",
      "[DEBUG] findfont: score(<Font '.SF NS Rounded' (SFNSRounded-Semibold.otf) normal normal semibold normal>) = 10.24\n",
      "[DEBUG] findfont: score(<Font 'Corsiva Hebrew' (Corsiva.ttc) normal normal 400 normal>) = 10.05\n",
      "[DEBUG] findfont: score(<Font 'Trattatello' (Trattatello.ttf) normal normal 400 normal>) = 10.05\n",
      "[DEBUG] findfont: score(<Font 'NovaMono for Powerline' (NovaMono for Powerline.ttf) normal normal 400 normal>) = 10.05\n",
      "[DEBUG] findfont: score(<Font 'Courier New' (Courier New Bold Italic.ttf) italic normal bold normal>) = 11.335\n",
      "[DEBUG] findfont: score(<Font 'Roboto Mono for Powerline' (Roboto Mono Bold for Powerline.ttf) normal normal bold normal>) = 10.335\n",
      "[DEBUG] findfont: score(<Font 'Chalkduster' (Chalkduster.ttf) normal normal 400 normal>) = 10.05\n",
      "[DEBUG] findfont: score(<Font 'Didot' (Didot.ttc) normal normal 400 normal>) = 10.05\n",
      "[DEBUG] findfont: score(<Font 'Source Code Pro for Powerline' (Source Code Pro Semibold for Powerline.otf) normal normal semibold normal>) = 10.24\n",
      "[DEBUG] findfont: score(<Font 'Snell Roundhand' (SnellRoundhand.ttc) normal normal 400 normal>) = 10.05\n",
      "[DEBUG] findfont: score(<Font '.SF Compact Rounded' (SFCompactRounded-Ultralight.otf) normal normal ultralight normal>) = 10.335\n",
      "[DEBUG] findfont: score(<Font 'Hiragino Sans' (ヒラギノ角ゴシック W0.ttc) normal normal 400 normal>) = 10.05\n",
      "[DEBUG] findfont: score(<Font 'Avenir Next Condensed' (Avenir Next Condensed.ttc) normal normal bold condensed>) = 10.535\n",
      "[DEBUG] findfont: score(<Font '.SF NS Text Condensed' (SFNSTextCondensed-Bold.otf) normal normal bold condensed>) = 10.535\n",
      "[DEBUG] findfont: score(<Font 'Trebuchet MS' (Trebuchet MS Italic.ttf) italic normal 400 normal>) = 11.05\n",
      "[DEBUG] findfont: score(<Font 'Arial Hebrew' (ArialHB.ttc) normal normal 400 normal>) = 10.05\n",
      "[DEBUG] findfont: score(<Font 'Meslo LG L DZ for Powerline' (Meslo LG L DZ Regular for Powerline.ttf) normal normal regular normal>) = 10.05\n",
      "[DEBUG] findfont: score(<Font 'Myanmar Sangam MN' (Myanmar Sangam MN.ttc) normal normal 400 normal>) = 10.05\n",
      "[DEBUG] findfont: score(<Font 'Tinos for Powerline' (Tinos Bold Italic for Powerline.ttf) italic normal bold normal>) = 11.335\n",
      "[DEBUG] findfont: score(<Font 'Apple SD Gothic Neo' (AppleSDGothicNeo.ttc) normal normal regular normal>) = 10.05\n",
      "[DEBUG] findfont: score(<Font 'Apple Braille' (Apple Braille Outline 8 Dot.ttf) normal normal 400 normal>) = 10.05\n",
      "[DEBUG] findfont: score(<Font 'Helvetica' (Helvetica.ttc) normal normal 400 normal>) = 7.322727272727273\n",
      "[DEBUG] findfont: score(<Font '.SF NS Display Condensed' (SFNSDisplayCondensed-Medium.otf) normal normal medium condensed>) = 10.344999999999999\n",
      "[DEBUG] findfont: score(<Font '.SF NS Symbols' (SFNSSymbols-Semibold.otf) normal normal semibold normal>) = 10.24\n",
      "[DEBUG] findfont: score(<Font 'STIXIntegralsD' (STIXIntDBol.otf) normal normal bold normal>) = 10.335\n",
      "[DEBUG] findfont: score(<Font 'Kailasa' (Kailasa.ttc) normal normal regular normal>) = 10.05\n",
      "[DEBUG] findfont: score(<Font 'Comic Sans MS' (Comic Sans MS.ttf) normal normal 400 normal>) = 10.05\n",
      "[DEBUG] findfont: score(<Font 'Hack' (Hack-BoldItalic.ttf) italic normal bold normal>) = 11.335\n",
      "[DEBUG] findfont: score(<Font 'Inconsolata-dz for Powerline' (Inconsolata-dz for Powerline.otf) normal normal 400 normal>) = 10.05\n",
      "[DEBUG] findfont: score(<Font 'Georgia' (Georgia.ttf) normal normal 400 normal>) = 10.05\n",
      "[DEBUG] findfont: score(<Font 'Hoefler Text' (Hoefler Text.ttc) normal normal 400 normal>) = 10.05\n",
      "[DEBUG] findfont: score(<Font 'Chalkboard' (Chalkboard.ttc) normal normal 400 normal>) = 10.05\n",
      "[DEBUG] findfont: score(<Font 'Verdana' (Verdana.ttf) normal normal 400 normal>) = 3.6863636363636365\n",
      "[DEBUG] findfont: score(<Font 'Lao Sangam MN' (Lao Sangam MN.ttf) normal normal 400 normal>) = 10.05\n",
      "[DEBUG] findfont: score(<Font '.SF NS Display Condensed' (SFNSDisplayCondensed-Heavy.otf) normal normal heavy condensed>) = 10.629999999999999\n"
     ]
    },
    {
     "name": "stderr",
     "output_type": "stream",
     "text": [
      "[DEBUG] findfont: score(<Font 'Meslo LG L for Powerline' (Meslo LG L Regular for Powerline.ttf) normal normal regular normal>) = 10.05\n",
      "[DEBUG] findfont: score(<Font 'Big Caslon' (BigCaslon.ttf) normal normal medium normal>) = 10.145\n",
      "[DEBUG] findfont: score(<Font '.Arabic UI Display' (ArabicUIDisplay.ttc) normal normal black normal>) = 10.525\n",
      "[DEBUG] findfont: score(<Font 'Go Mono for Powerline' (Go Mono Bold Italic for Powerline.ttf) italic normal bold normal>) = 11.335\n",
      "[DEBUG] findfont: score(<Font 'Devanagari MT' (DevanagariMT.ttc) normal normal 400 normal>) = 10.05\n",
      "[DEBUG] findfont: score(<Font 'Wingdings' (Wingdings.ttf) normal normal 400 normal>) = 10.05\n",
      "[DEBUG] findfont: score(<Font '.SF NS Display Condensed' (SFNSDisplayCondensed-Thin.otf) normal normal 400 condensed>) = 10.25\n",
      "[DEBUG] findfont: score(<Font 'System Font' (SFNSDisplay-ThinG4.otf) normal normal 400 normal>) = 10.05\n",
      "[DEBUG] findfont: score(<Font '.SF Compact Rounded' (SFCompactRounded-Medium.otf) normal normal medium normal>) = 10.145\n",
      "[DEBUG] findfont: score(<Font '.SF Compact Display' (SFCompactDisplay-Medium.otf) normal normal medium normal>) = 10.145\n",
      "[DEBUG] findfont: score(<Font 'Ubuntu Mono derivative Powerline' (Ubuntu Mono derivative Powerline Bold.ttf) normal normal bold normal>) = 10.335\n",
      "[DEBUG] findfont: score(<Font '.SF Compact Text' (SFCompactText-HeavyItalic.otf) italic normal heavy normal>) = 11.43\n",
      "[DEBUG] findfont: score(<Font '.SF Compact Display' (SFCompactDisplay-Black.otf) normal normal black normal>) = 10.525\n",
      "[DEBUG] findfont: Matching :family=sans-serif:style=normal:variant=normal:weight=normal:stretch=normal:size=10.0 to DejaVu Sans ('//anaconda3/envs/sentistock/lib/python3.7/site-packages/matplotlib/mpl-data/fonts/ttf/DejaVuSans.ttf') with score of 0.050000.\n"
     ]
    },
    {
     "data": {
      "image/png": "[encoded data removed]",
      "text/plain": [
       "<Figure size 432x288 with 1 Axes>"
      ]
     },
     "metadata": {},
     "output_type": "display_data"
    }
   ],
   "source": [
    "%matplotlib inline\n",
    "matplotlib.style.use('ggplot')\n",
    "\n",
    "return_values = np.array(return_values, dtype=float).reshape(-1, 1)\n",
    "sentiments_scores = np.array(sentiments_scores, dtype=float).reshape(-1, 1)\n",
    "\n",
    "sentiments_scores = np.where(np.isnan(sentiments_scores), sentiments_scores.mean(), sentiments_scores)\n",
    "\n",
    "linear_regressor = LinearRegression()\n",
    "linear_regressor.fit(sentiments_scores, return_values)\n",
    "\n",
    "plt.scatter(sentiments_scores, return_values)\n",
    "\n",
    "Y_pred = linear_regressor.predict(sentiments_scores)\n",
    "plt.plot(sentiments_scores, Y_pred, color='blue')\n",
    "plt.show()"
   ]
  },
  {
   "cell_type": "code",
   "execution_count": null,
   "metadata": {},
   "outputs": [],
   "source": []
  },
  {
   "cell_type": "code",
   "execution_count": 16,
   "metadata": {},
   "outputs": [
    {
     "data": {
      "text/plain": [
       "0.10324132617110404"
      ]
     },
     "execution_count": 16,
     "metadata": {},
     "output_type": "execute_result"
    }
   ],
   "source": [
    "r2_score(return_values, Y_pred)"
   ]
  },
  {
   "cell_type": "code",
   "execution_count": 17,
   "metadata": {},
   "outputs": [],
   "source": [
    "mod = sm.OLS(Y_pred, return_values)\n",
    "fii = mod.fit()\n",
    "p_values = fii.summary2().tables[1]['P>|t|']"
   ]
  },
  {
   "cell_type": "code",
   "execution_count": 18,
   "metadata": {},
   "outputs": [
    {
     "data": {
      "text/plain": [
       "x1    1.610683e-52\n",
       "Name: P>|t|, dtype: float64"
      ]
     },
     "execution_count": 18,
     "metadata": {},
     "output_type": "execute_result"
    }
   ],
   "source": [
    "p_values"
   ]
  },
  {
   "cell_type": "code",
   "execution_count": null,
   "metadata": {},
   "outputs": [],
   "source": []
  }
 ],
 "metadata": {
  "kernelspec": {
   "display_name": "Python 3",
   "language": "python",
   "name": "python3"
  },
  "language_info": {
   "codemirror_mode": {
    "name": "ipython",
    "version": 3
   },
   "file_extension": ".py",
   "mimetype": "text/x-python",
   "name": "python",
   "nbconvert_exporter": "python",
   "pygments_lexer": "ipython3",
   "version": "3.7.3"
  }
 },
 "nbformat": 4,
 "nbformat_minor": 2
}
