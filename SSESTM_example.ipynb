{
 "cells": [
  {
   "cell_type": "code",
   "execution_count": 14,
   "metadata": {},
   "outputs": [],
   "source": [
    "from ssestm import SSESTM\n",
    "from tqdm import tqdm\n",
    "import pandas as pd\n",
    "import numpy as np"
   ]
  },
  {
   "cell_type": "markdown",
   "metadata": {},
   "source": [
    "# 1. Load data"
   ]
  },
  {
   "cell_type": "code",
   "execution_count": 15,
   "metadata": {},
   "outputs": [],
   "source": [
    "df = pd.read_csv(\"./data/articles.csv\")"
   ]
  },
  {
   "cell_type": "code",
   "execution_count": 16,
   "metadata": {},
   "outputs": [
    {
     "data": {
      "text/html": [
       "<div>\n",
       "<style scoped>\n",
       "    .dataframe tbody tr th:only-of-type {\n",
       "        vertical-align: middle;\n",
       "    }\n",
       "\n",
       "    .dataframe tbody tr th {\n",
       "        vertical-align: top;\n",
       "    }\n",
       "\n",
       "    .dataframe thead th {\n",
       "        text-align: right;\n",
       "    }\n",
       "</style>\n",
       "<table border=\"1\" class=\"dataframe\">\n",
       "  <thead>\n",
       "    <tr style=\"text-align: right;\">\n",
       "      <th></th>\n",
       "      <th>Date</th>\n",
       "      <th>Price</th>\n",
       "      <th>Volume</th>\n",
       "      <th>Return</th>\n",
       "      <th>Open</th>\n",
       "      <th>Return2</th>\n",
       "      <th>Title</th>\n",
       "      <th>Body</th>\n",
       "    </tr>\n",
       "  </thead>\n",
       "  <tbody>\n",
       "    <tr>\n",
       "      <td>0</td>\n",
       "      <td>20020116</td>\n",
       "      <td>18.86</td>\n",
       "      <td>84390.0</td>\n",
       "      <td>-0.0021</td>\n",
       "      <td>18.86</td>\n",
       "      <td>0.000000</td>\n",
       "      <td>Crude Oil Inputs Remain High For This Time of ...</td>\n",
       "      <td>Crude Oil Inputs Remain High For This Time of ...</td>\n",
       "    </tr>\n",
       "    <tr>\n",
       "      <td>1</td>\n",
       "      <td>20020124</td>\n",
       "      <td>19.70</td>\n",
       "      <td>83910.0</td>\n",
       "      <td>0.0103</td>\n",
       "      <td>19.48</td>\n",
       "      <td>0.011230</td>\n",
       "      <td>Crude Oil Inputs Fall; Are Further Declines Ye...</td>\n",
       "      <td>Crude Oil Inputs Fall; Are Further Declines Ye...</td>\n",
       "    </tr>\n",
       "    <tr>\n",
       "      <td>2</td>\n",
       "      <td>20020130</td>\n",
       "      <td>19.08</td>\n",
       "      <td>93920.0</td>\n",
       "      <td>-0.0255</td>\n",
       "      <td>19.58</td>\n",
       "      <td>-0.025868</td>\n",
       "      <td>Crude Oil Inputs Fall Substantially Last Week</td>\n",
       "      <td>Crude Oil Inputs Fall Substantially Last Week\\...</td>\n",
       "    </tr>\n",
       "    <tr>\n",
       "      <td>3</td>\n",
       "      <td>20020206</td>\n",
       "      <td>19.78</td>\n",
       "      <td>79320.0</td>\n",
       "      <td>-0.0144</td>\n",
       "      <td>20.01</td>\n",
       "      <td>-0.011561</td>\n",
       "      <td>Crude Oil Inputs Remain Low While Product Stoc...</td>\n",
       "      <td>Crude Oil Inputs Remain Low While Product Stoc...</td>\n",
       "    </tr>\n",
       "    <tr>\n",
       "      <td>4</td>\n",
       "      <td>20020213</td>\n",
       "      <td>21.18</td>\n",
       "      <td>99170.0</td>\n",
       "      <td>0.0217</td>\n",
       "      <td>20.58</td>\n",
       "      <td>0.028738</td>\n",
       "      <td>Last Week's Petroleum Supply Data: Continuatio...</td>\n",
       "      <td>Last Week’s Petroleum Supply Data: Continuatio...</td>\n",
       "    </tr>\n",
       "  </tbody>\n",
       "</table>\n",
       "</div>"
      ],
      "text/plain": [
       "       Date  Price   Volume  Return   Open   Return2  \\\n",
       "0  20020116  18.86  84390.0 -0.0021  18.86  0.000000   \n",
       "1  20020124  19.70  83910.0  0.0103  19.48  0.011230   \n",
       "2  20020130  19.08  93920.0 -0.0255  19.58 -0.025868   \n",
       "3  20020206  19.78  79320.0 -0.0144  20.01 -0.011561   \n",
       "4  20020213  21.18  99170.0  0.0217  20.58  0.028738   \n",
       "\n",
       "                                               Title  \\\n",
       "0  Crude Oil Inputs Remain High For This Time of ...   \n",
       "1  Crude Oil Inputs Fall; Are Further Declines Ye...   \n",
       "2      Crude Oil Inputs Fall Substantially Last Week   \n",
       "3  Crude Oil Inputs Remain Low While Product Stoc...   \n",
       "4  Last Week's Petroleum Supply Data: Continuatio...   \n",
       "\n",
       "                                                Body  \n",
       "0  Crude Oil Inputs Remain High For This Time of ...  \n",
       "1  Crude Oil Inputs Fall; Are Further Declines Ye...  \n",
       "2  Crude Oil Inputs Fall Substantially Last Week\\...  \n",
       "3  Crude Oil Inputs Remain Low While Product Stoc...  \n",
       "4  Last Week’s Petroleum Supply Data: Continuatio...  "
      ]
     },
     "execution_count": 16,
     "metadata": {},
     "output_type": "execute_result"
    }
   ],
   "source": [
    "df.head()"
   ]
  },
  {
   "cell_type": "markdown",
   "metadata": {},
   "source": [
    "# 2. Model initializing"
   ]
  },
  {
   "cell_type": "code",
   "execution_count": 17,
   "metadata": {},
   "outputs": [],
   "source": [
    "# If you initialize at the first time, you need to \n",
    "model = SSESTM()"
   ]
  },
  {
   "cell_type": "code",
   "execution_count": 18,
   "metadata": {
    "scrolled": true
   },
   "outputs": [],
   "source": [
    "# model.train(path=\"./data/articles.csv\")"
   ]
  },
  {
   "cell_type": "code",
   "execution_count": null,
   "metadata": {
    "scrolled": true
   },
   "outputs": [
    {
     "name": "stderr",
     "output_type": "stream",
     "text": [
      "635it [00:59, 11.28it/s]"
     ]
    }
   ],
   "source": [
    "model.load_params()\n",
    "return_values = []\n",
    "sentiments_scores = []\n",
    "for idx, row in tqdm(df.iterrows()):\n",
    "    if not pd.isna(row[\"Return2\"]) and not pd.isna(row[\"Return2\"]):\n",
    "        try:\n",
    "            return_values.append(row[\"Return2\"])\n",
    "            sentiments_scores.append(model.predict(row[\"Body\"]))\n",
    "        except:\n",
    "            # Exception for math domain error due to the limitation of gradient descent.\n",
    "            return_values.pop()\n",
    "            continue"
   ]
  },
  {
   "cell_type": "markdown",
   "metadata": {},
   "source": [
    "# 3. Plot correlation"
   ]
  },
  {
   "cell_type": "code",
   "execution_count": null,
   "metadata": {
    "scrolled": true
   },
   "outputs": [],
   "source": [
    "import matplotlib\n",
    "import matplotlib.pyplot as plt\n",
    "from sklearn.linear_model import LinearRegression\n",
    "%matplotlib inline\n",
    "matplotlib.style.use('ggplot')\n",
    "\n",
    "return_values = np.array(return_values, dtype=float).reshape(-1, 1)\n",
    "sentiments_scores = np.array(sentiments_scores, dtype=float).reshape(-1, 1)\n",
    "\n",
    "print(np.any(np.isnan(return_values)))\n",
    "sentiments_scores = np.where(np.isnan(sentiments_scores), sentiments_scores.mean(), sentiments_scores)\n",
    "\n",
    "linear_regressor = LinearRegression()\n",
    "linear_regressor.fit(sentiments_scores, return_values)\n",
    "\n",
    "plt.scatter(sentiments_scores, return_values)\n",
    "\n",
    "plt.plot(sentiments_scores, linear_regressor.predict(sentiments_scores), color='blue')\n",
    "plt.show()"
   ]
  },
  {
   "cell_type": "code",
   "execution_count": null,
   "metadata": {},
   "outputs": [],
   "source": []
  }
 ],
 "metadata": {
  "kernelspec": {
   "display_name": "Python 3",
   "language": "python",
   "name": "python3"
  },
  "language_info": {
   "codemirror_mode": {
    "name": "ipython",
    "version": 3
   },
   "file_extension": ".py",
   "mimetype": "text/x-python",
   "name": "python",
   "nbconvert_exporter": "python",
   "pygments_lexer": "ipython3",
   "version": "3.7.3"
  }
 },
 "nbformat": 4,
 "nbformat_minor": 2
}
